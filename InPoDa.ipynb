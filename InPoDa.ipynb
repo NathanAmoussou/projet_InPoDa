{
 "cells": [
  {
   "cell_type": "code",
   "execution_count": 333,
   "metadata": {},
   "outputs": [
    {
     "name": "stderr",
     "output_type": "stream",
     "text": [
      "/var/folders/5t/77z6brvj1wqdf_bkh25x0vhc0000gn/T/ipykernel_83525/1099348287.py:50: FutureWarning: The frame.append method is deprecated and will be removed from pandas in a future version. Use pandas.concat instead.\n",
      "  df2 = df2.append(ast.literal_eval(ligne), ignore_index=True)\n",
      "/var/folders/5t/77z6brvj1wqdf_bkh25x0vhc0000gn/T/ipykernel_83525/1099348287.py:50: FutureWarning: The frame.append method is deprecated and will be removed from pandas in a future version. Use pandas.concat instead.\n",
      "  df2 = df2.append(ast.literal_eval(ligne), ignore_index=True)\n",
      "/var/folders/5t/77z6brvj1wqdf_bkh25x0vhc0000gn/T/ipykernel_83525/1099348287.py:50: FutureWarning: The frame.append method is deprecated and will be removed from pandas in a future version. Use pandas.concat instead.\n",
      "  df2 = df2.append(ast.literal_eval(ligne), ignore_index=True)\n",
      "/var/folders/5t/77z6brvj1wqdf_bkh25x0vhc0000gn/T/ipykernel_83525/1099348287.py:50: FutureWarning: The frame.append method is deprecated and will be removed from pandas in a future version. Use pandas.concat instead.\n",
      "  df2 = df2.append(ast.literal_eval(ligne), ignore_index=True)\n",
      "/var/folders/5t/77z6brvj1wqdf_bkh25x0vhc0000gn/T/ipykernel_83525/1099348287.py:50: FutureWarning: The frame.append method is deprecated and will be removed from pandas in a future version. Use pandas.concat instead.\n",
      "  df2 = df2.append(ast.literal_eval(ligne), ignore_index=True)\n",
      "/var/folders/5t/77z6brvj1wqdf_bkh25x0vhc0000gn/T/ipykernel_83525/1099348287.py:50: FutureWarning: The frame.append method is deprecated and will be removed from pandas in a future version. Use pandas.concat instead.\n",
      "  df2 = df2.append(ast.literal_eval(ligne), ignore_index=True)\n",
      "/var/folders/5t/77z6brvj1wqdf_bkh25x0vhc0000gn/T/ipykernel_83525/1099348287.py:50: FutureWarning: The frame.append method is deprecated and will be removed from pandas in a future version. Use pandas.concat instead.\n",
      "  df2 = df2.append(ast.literal_eval(ligne), ignore_index=True)\n",
      "/var/folders/5t/77z6brvj1wqdf_bkh25x0vhc0000gn/T/ipykernel_83525/1099348287.py:50: FutureWarning: The frame.append method is deprecated and will be removed from pandas in a future version. Use pandas.concat instead.\n",
      "  df2 = df2.append(ast.literal_eval(ligne), ignore_index=True)\n",
      "/var/folders/5t/77z6brvj1wqdf_bkh25x0vhc0000gn/T/ipykernel_83525/1099348287.py:50: FutureWarning: The frame.append method is deprecated and will be removed from pandas in a future version. Use pandas.concat instead.\n",
      "  df2 = df2.append(ast.literal_eval(ligne), ignore_index=True)\n",
      "/var/folders/5t/77z6brvj1wqdf_bkh25x0vhc0000gn/T/ipykernel_83525/1099348287.py:50: FutureWarning: The frame.append method is deprecated and will be removed from pandas in a future version. Use pandas.concat instead.\n",
      "  df2 = df2.append(ast.literal_eval(ligne), ignore_index=True)\n",
      "/var/folders/5t/77z6brvj1wqdf_bkh25x0vhc0000gn/T/ipykernel_83525/1099348287.py:50: FutureWarning: The frame.append method is deprecated and will be removed from pandas in a future version. Use pandas.concat instead.\n",
      "  df2 = df2.append(ast.literal_eval(ligne), ignore_index=True)\n",
      "/var/folders/5t/77z6brvj1wqdf_bkh25x0vhc0000gn/T/ipykernel_83525/1099348287.py:50: FutureWarning: The frame.append method is deprecated and will be removed from pandas in a future version. Use pandas.concat instead.\n",
      "  df2 = df2.append(ast.literal_eval(ligne), ignore_index=True)\n",
      "/var/folders/5t/77z6brvj1wqdf_bkh25x0vhc0000gn/T/ipykernel_83525/1099348287.py:50: FutureWarning: The frame.append method is deprecated and will be removed from pandas in a future version. Use pandas.concat instead.\n",
      "  df2 = df2.append(ast.literal_eval(ligne), ignore_index=True)\n",
      "/var/folders/5t/77z6brvj1wqdf_bkh25x0vhc0000gn/T/ipykernel_83525/1099348287.py:50: FutureWarning: The frame.append method is deprecated and will be removed from pandas in a future version. Use pandas.concat instead.\n",
      "  df2 = df2.append(ast.literal_eval(ligne), ignore_index=True)\n",
      "/var/folders/5t/77z6brvj1wqdf_bkh25x0vhc0000gn/T/ipykernel_83525/1099348287.py:50: FutureWarning: The frame.append method is deprecated and will be removed from pandas in a future version. Use pandas.concat instead.\n",
      "  df2 = df2.append(ast.literal_eval(ligne), ignore_index=True)\n",
      "/var/folders/5t/77z6brvj1wqdf_bkh25x0vhc0000gn/T/ipykernel_83525/1099348287.py:50: FutureWarning: The frame.append method is deprecated and will be removed from pandas in a future version. Use pandas.concat instead.\n",
      "  df2 = df2.append(ast.literal_eval(ligne), ignore_index=True)\n",
      "/var/folders/5t/77z6brvj1wqdf_bkh25x0vhc0000gn/T/ipykernel_83525/1099348287.py:50: FutureWarning: The frame.append method is deprecated and will be removed from pandas in a future version. Use pandas.concat instead.\n",
      "  df2 = df2.append(ast.literal_eval(ligne), ignore_index=True)\n",
      "/var/folders/5t/77z6brvj1wqdf_bkh25x0vhc0000gn/T/ipykernel_83525/1099348287.py:50: FutureWarning: The frame.append method is deprecated and will be removed from pandas in a future version. Use pandas.concat instead.\n",
      "  df2 = df2.append(ast.literal_eval(ligne), ignore_index=True)\n",
      "/var/folders/5t/77z6brvj1wqdf_bkh25x0vhc0000gn/T/ipykernel_83525/1099348287.py:50: FutureWarning: The frame.append method is deprecated and will be removed from pandas in a future version. Use pandas.concat instead.\n",
      "  df2 = df2.append(ast.literal_eval(ligne), ignore_index=True)\n",
      "/var/folders/5t/77z6brvj1wqdf_bkh25x0vhc0000gn/T/ipykernel_83525/1099348287.py:50: FutureWarning: The frame.append method is deprecated and will be removed from pandas in a future version. Use pandas.concat instead.\n",
      "  df2 = df2.append(ast.literal_eval(ligne), ignore_index=True)\n"
     ]
    }
   ],
   "source": []
  }
 ],
 "metadata": {
  "kernelspec": {
   "display_name": "Python 3.9.2 64-bit",
   "language": "python",
   "name": "python3"
  },
  "language_info": {
   "codemirror_mode": {
    "name": "ipython",
    "version": 3
   },
   "file_extension": ".py",
   "mimetype": "text/x-python",
   "name": "python",
   "nbconvert_exporter": "python",
   "pygments_lexer": "ipython3",
   "version": "3.9.2"
  },
  "orig_nbformat": 4,
  "vscode": {
   "interpreter": {
    "hash": "aee8b7b246df8f9039afb4144a1f6fd8d2ca17a180786b69acc140d282b71a49"
   }
  }
 },
 "nbformat": 4,
 "nbformat_minor": 2
}
